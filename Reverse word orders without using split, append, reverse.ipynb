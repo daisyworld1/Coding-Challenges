{
 "cells": [
  {
   "cell_type": "code",
   "execution_count": 59,
   "metadata": {},
   "outputs": [],
   "source": [
    "a = 'Good Morning, how are you?'"
   ]
  },
  {
   "cell_type": "code",
   "execution_count": 123,
   "metadata": {},
   "outputs": [
    {
     "data": {
      "text/plain": [
       "'?you are how ,Morning Good'"
      ]
     },
     "execution_count": 123,
     "metadata": {},
     "output_type": "execute_result"
    }
   ],
   "source": [
    "alist = list(range(6))\n",
    "b = 0\n",
    "for j in list(range(-6,0)):  \n",
    "    c = ''\n",
    "    for i in a[b:]:\n",
    "        if i != ' ' and i != '?' and i != ',':\n",
    "            c = c + i\n",
    "            b = b + 1\n",
    "        else:\n",
    "            c = i + c\n",
    "            b = b + 1\n",
    "            break\n",
    "    alist[j] = c \n",
    "\n",
    "new_string = ''\n",
    "for i in range(-6,0):\n",
    "    new_string = alist[i] + new_string\n",
    "    \n",
    "new_string"
   ]
  }
 ],
 "metadata": {
  "kernelspec": {
   "display_name": "Python 3",
   "language": "python",
   "name": "python3"
  },
  "language_info": {
   "codemirror_mode": {
    "name": "ipython",
    "version": 3
   },
   "file_extension": ".py",
   "mimetype": "text/x-python",
   "name": "python",
   "nbconvert_exporter": "python",
   "pygments_lexer": "ipython3",
   "version": "3.7.1"
  }
 },
 "nbformat": 4,
 "nbformat_minor": 2
}
